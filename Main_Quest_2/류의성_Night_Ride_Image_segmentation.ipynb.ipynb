{
  "nbformat": 4,
  "nbformat_minor": 0,
  "metadata": {
    "colab": {
      "provenance": []
    },
    "kernelspec": {
      "name": "python3",
      "display_name": "Python 3"
    },
    "language_info": {
      "name": "python"
    }
  },
  "cells": [
    {
      "cell_type": "code",
      "source": [
        "from google.colab import drive\n",
        "drive.mount('/content/drive', force_remount=True)"
      ],
      "metadata": {
        "colab": {
          "base_uri": "https://localhost:8080/"
        },
        "id": "fkEOUnXaSXi6",
        "outputId": "537ac5e4-0706-4d38-fdbd-59a3288e1f3e"
      },
      "execution_count": 107,
      "outputs": [
        {
          "output_type": "stream",
          "name": "stdout",
          "text": [
            "Mounted at /content/drive\n"
          ]
        }
      ]
    },
    {
      "cell_type": "code",
      "execution_count": 108,
      "metadata": {
        "id": "ygCysoGy-qDu"
      },
      "outputs": [],
      "source": [
        "import os\n",
        "import tensorflow as tf\n",
        "from tensorflow.keras.layers import Input, Conv2D, MaxPooling2D, concatenate, UpSampling2D\n",
        "from tensorflow.keras.models import Model\n",
        "\n",
        "\n",
        "# 이미지 및 라벨링 데이터 디렉토리 설정\n",
        "image_dir = \"/content/drive/MyDrive/ColabNotebooks/archive/www.acmeai.tech ODataset 1 - Motorcycle Night Ride Dataset/normal\"\n",
        "label_dir = \"/content/drive/MyDrive/ColabNotebooks/archive/www.acmeai.tech ODataset 1 - Motorcycle Night Ride Dataset/val2\""
      ]
    },
    {
      "cell_type": "code",
      "source": [
        "# 이미지 디렉토리에서 파일 목록 가져오기\n",
        "image_files = os.listdir(image_dir)\n",
        "\n",
        "# 라벨링 디렉토리에서 파일 목록 가져오기\n",
        "label_files = os.listdir(label_dir)\n",
        "\n",
        "print(\"이미지 파일 목록:\")\n",
        "print(image_files)\n",
        "\n",
        "print(\"라벨링 파일 목록:\")\n",
        "print(label_files)"
      ],
      "metadata": {
        "colab": {
          "base_uri": "https://localhost:8080/"
        },
        "id": "h1yXyAWjPC0R",
        "outputId": "46abdf50-b6b0-46a1-d9e4-2d0362d866ae"
      },
      "execution_count": 109,
      "outputs": [
        {
          "output_type": "stream",
          "name": "stdout",
          "text": [
            "이미지 파일 목록:\n",
            "['Screenshot (310).png', 'Screenshot (309).png', 'Screenshot (311).png', 'Screenshot (312).png', 'Screenshot (322).png', 'Screenshot (313).png', 'Screenshot (318).png', 'Screenshot (321).png', 'Screenshot (319).png', 'Screenshot (314).png', 'Screenshot (317).png', 'Screenshot (324).png', 'Screenshot (323).png', 'Screenshot (354).png', 'Screenshot (353).png', 'Screenshot (325).png', 'Screenshot (326).png', 'Screenshot (357).png', 'Screenshot (356).png', 'Screenshot (361).png', 'Screenshot (359).png', 'Screenshot (355).png', 'Screenshot (358).png', 'Screenshot (366).png', 'Screenshot (368).png', 'Screenshot (367).png', 'Screenshot (364).png', 'Screenshot (362).png', 'Screenshot (363).png', 'Screenshot (372).png', 'Screenshot (374).png', 'Screenshot (369).png', 'Screenshot (370).png', 'Screenshot (371).png', 'Screenshot (373).png', 'Screenshot (380).png', 'Screenshot (377).png', 'Screenshot (375).png', 'Screenshot (376).png', 'Screenshot (378).png', 'Screenshot (379).png', 'Screenshot (386).png', 'Screenshot (384).png', 'Screenshot (383).png', 'Screenshot (385).png', 'Screenshot (381).png', 'Screenshot (387).png', 'Screenshot (393).png', 'Screenshot (391).png', 'Screenshot (392).png', 'Screenshot (390).png', 'Screenshot (388).png', 'Screenshot (389).png', 'Screenshot (398).png', 'Screenshot (396).png', 'Screenshot (397).png', 'Screenshot (395).png', 'Screenshot (400).png', 'Screenshot (394).png', 'Screenshot (404).png', 'Screenshot (405).png', 'Screenshot (406).png', 'Screenshot (403).png', 'Screenshot (401).png', 'Screenshot (413).png', 'Screenshot (409).png', 'Screenshot (408).png', 'Screenshot (411).png', 'Screenshot (407).png', 'Screenshot (412).png', 'Screenshot (410).png', 'Screenshot (418).png', 'Screenshot (417).png', 'Screenshot (416).png', 'Screenshot (414).png', 'Screenshot (419).png', 'Screenshot (420).png', 'Screenshot (425).png', 'Screenshot (426).png', 'Screenshot (422).png', 'Screenshot (421).png', 'Screenshot (424).png', 'Screenshot (423).png.png', 'Screenshot (428).png', 'Screenshot (429).png.png', 'Screenshot (430).png', 'Screenshot (432).png', 'Screenshot (427).png', 'Screenshot (431).png', 'Screenshot (439).png', 'Screenshot (437).png', 'Screenshot (433).png', 'Screenshot (435).png', 'Screenshot (438).png', 'Screenshot (434).png', 'Screenshot (436).png', 'Screenshot (445).png', 'Screenshot (443).png', 'Screenshot (442).png', 'Screenshot (444).png', 'Screenshot (441).png', 'Screenshot (440).png', 'Screenshot (449).png', 'Screenshot (447).png', 'Screenshot (446).png', 'night ride (10).png', 'Screenshot (450).png', 'Screenshot (448).png', 'night ride (13).png', 'night ride (100).png', 'night ride (12).png', 'night ride (11).png', 'night ride (14).png', 'night ride (20).png', 'night ride (18).png', 'night ride (17).png', 'night ride (19).png', 'night ride (16).png', 'night ride (15).png', 'night ride (25).png', 'night ride (21).png', 'night ride (23).png', 'night ride (22).png', 'night ride (24).png', 'night ride (29).png', 'night ride (26).png', 'night ride (27).png', 'night ride (28).png', 'night ride (35).png', 'night ride (30).png', 'night ride (34).png', 'night ride (36).png', 'night ride (33).png', 'night ride (31).png', 'night ride (40).png', 'night ride (37).png', 'night ride (41).png', 'night ride (39).png', 'night ride (42).png', 'night ride (38).png', 'night ride (48).png', 'night ride (47).png', 'night ride (46).png', 'night ride (45).png', 'night ride (44).png', 'night ride (43).png', 'night ride (52).png', 'night ride (49).png', 'night ride (50).png', 'night ride (53).png', 'night ride (51).png', 'night ride (57).png', 'night ride (54).png', 'night ride (56).png', 'night ride (55).png', 'night ride (59).png', 'night ride (58).png', 'night ride (60).png', 'night ride (61).png', 'night ride (66).png', 'night ride (65).png', 'night ride (62).png', 'night ride (64).png', 'night ride (63).png', 'night ride (67).png', 'night ride (7).png', 'night ride (68).png', 'night ride (69).png', 'night ride (75).png', 'night ride (71).png', 'night ride (74).png', 'night ride (73).png', 'night ride (70).png', 'night ride (72).png', 'night ride (78).png', 'night ride (76).png', 'night ride (79).png', 'night ride (77).png', 'night ride (8).png', 'night ride (86).png', 'night ride (83).png', 'night ride (80).png', 'night ride (85).png', 'night ride (82).png', 'night ride (84).png', 'night ride (81).png', 'night ride (87).png', 'night ride (90).png', 'night ride (89).png', 'night ride (9).png', 'night ride (88).png', 'night ride (91).png', 'night ride (92).png', 'night ride (94).png', 'night ride (95).png', 'night ride (96).png', 'night ride (93).png', 'night ride (98).png', 'night ride (97).png', 'night ride (99).png']\n",
            "라벨링 파일 목록:\n",
            "['Screenshot (312).png___fuse.png', 'Screenshot (309).png___fuse.png', 'Screenshot (310).png___fuse.png', 'Screenshot (311).png___fuse.png', 'Screenshot (313).png___fuse.png', 'Screenshot (318).png___fuse.png', 'Screenshot (314).png___fuse.png', 'Screenshot (319).png___fuse.png', 'Screenshot (317).png___fuse.png', 'Screenshot (321).png___fuse.png', 'Screenshot (326).png___fuse.png', 'Screenshot (324).png___fuse.png', 'Screenshot (353).png___fuse.png', 'Screenshot (325).png___fuse.png', 'Screenshot (354).png___fuse.png', 'Screenshot (322).png___fuse.png', 'Screenshot (323).png___fuse.png', 'Screenshot (361).png___fuse.png', 'Screenshot (356).png___fuse.png', 'Screenshot (358).png___fuse.png', 'Screenshot (357).png___fuse.png', 'Screenshot (359).png___fuse.png', 'Screenshot (355).png___fuse.png', 'Screenshot (367).png___fuse.png', 'Screenshot (366).png___fuse.png', 'Screenshot (363).png___fuse.png', 'Screenshot (368).png___fuse.png', 'Screenshot (362).png___fuse.png', 'Screenshot (364).png___fuse.png', 'Screenshot (372).png___fuse.png', 'Screenshot (369).png___fuse.png', 'Screenshot (370).png___fuse.png', 'Screenshot (374).png___fuse.png', 'Screenshot (373).png___fuse.png', 'Screenshot (371).png___fuse.png', 'Screenshot (377).png___fuse.png', 'Screenshot (379).png___fuse.png', 'Screenshot (376).png___fuse.png', 'Screenshot (380).png___fuse.png', 'Screenshot (378).png___fuse.png', 'Screenshot (375).png___fuse.png', 'Screenshot (385).png___fuse.png', 'Screenshot (383).png___fuse.png', 'Screenshot (387).png___fuse.png', 'Screenshot (381).png___fuse.png', 'Screenshot (384).png___fuse.png', 'Screenshot (386).png___fuse.png', 'Screenshot (391).png___fuse.png', 'Screenshot (390).png___fuse.png', 'Screenshot (388).png___fuse.png', 'Screenshot (389).png___fuse.png', 'Screenshot (392).png___fuse.png', 'Screenshot (393).png___fuse.png', 'Screenshot (394).png___fuse.png', 'Screenshot (396).png___fuse.png', 'Screenshot (398).png___fuse.png', 'Screenshot (397).png___fuse.png', 'Screenshot (395).png___fuse.png', 'Screenshot (404).png___fuse.png', 'Screenshot (400).png___fuse.png', 'Screenshot (401).png___fuse.png', 'Screenshot (405).png___fuse.png', 'Screenshot (406).png___fuse.png', 'Screenshot (403).png___fuse.png', 'Screenshot (407).png___fuse.png', 'Screenshot (410).png___fuse.png', 'Screenshot (409).png___fuse.png', 'Screenshot (408).png___fuse.png', 'Screenshot (411).png___fuse.png', 'Screenshot (412).png___fuse.png', 'Screenshot (417).png___fuse.png', 'Screenshot (416).png___fuse.png', 'Screenshot (419).png___fuse.png', 'Screenshot (413).png___fuse.png', 'Screenshot (420).png___fuse.png', 'Screenshot (418).png___fuse.png', 'Screenshot (414).png___fuse.png', 'Screenshot (423).png.png___fuse.png', 'Screenshot (422).png___fuse.png', 'Screenshot (426).png___fuse.png', 'Screenshot (421).png___fuse.png', 'Screenshot (424).png___fuse.png', 'Screenshot (425).png___fuse.png', 'Screenshot (429).png.png___fuse.png', 'Screenshot (431).png___fuse.png', 'Screenshot (432).png___fuse.png', 'Screenshot (428).png___fuse.png', 'Screenshot (430).png___fuse.png', 'Screenshot (427).png___fuse.png', 'Screenshot (433).png___fuse.png', 'Screenshot (437).png___fuse.png', 'Screenshot (434).png___fuse.png', 'Screenshot (435).png___fuse.png', 'Screenshot (436).png___fuse.png', 'Screenshot (438).png___fuse.png', 'Screenshot (442).png___fuse.png', 'Screenshot (443).png___fuse.png', 'Screenshot (441).png___fuse.png', 'Screenshot (444).png___fuse.png', 'Screenshot (439).png___fuse.png', 'Screenshot (445).png___fuse.png', 'Screenshot (440).png___fuse.png', 'Screenshot (448).png___fuse.png', 'Screenshot (450).png___fuse.png', 'Screenshot (446).png___fuse.png', 'Screenshot (447).png___fuse.png', 'Screenshot (449).png___fuse.png', 'night ride (12).png___fuse.png', 'night ride (13).png___fuse.png', 'night ride (11).png___fuse.png', 'night ride (100).png___fuse.png', 'night ride (14).png___fuse.png', 'night ride (10).png___fuse.png', 'night ride (19).png___fuse.png', 'night ride (15).png___fuse.png', 'night ride (20).png___fuse.png', 'night ride (18).png___fuse.png', 'night ride (16).png___fuse.png', 'night ride (17).png___fuse.png', 'night ride (21).png___fuse.png', 'night ride (22).png___fuse.png', 'night ride (24).png___fuse.png', 'night ride (25).png___fuse.png', 'night ride (23).png___fuse.png', 'night ride (27).png___fuse.png', 'night ride (28).png___fuse.png', 'night ride (26).png___fuse.png', 'night ride (29).png___fuse.png', 'night ride (31).png___fuse.png', 'night ride (30).png___fuse.png', 'night ride (35).png___fuse.png', 'night ride (33).png___fuse.png', 'night ride (36).png___fuse.png', 'night ride (34).png___fuse.png', 'night ride (38).png___fuse.png', 'night ride (37).png___fuse.png', 'night ride (41).png___fuse.png', 'night ride (39).png___fuse.png', 'night ride (40).png___fuse.png', 'night ride (42).png___fuse.png', 'night ride (43).png___fuse.png', 'night ride (44).png___fuse.png', 'night ride (48).png___fuse.png', 'night ride (47).png___fuse.png', 'night ride (45).png___fuse.png', 'night ride (46).png___fuse.png', 'night ride (51).png___fuse.png', 'night ride (52).png___fuse.png', 'night ride (50).png___fuse.png', 'night ride (49).png___fuse.png', 'night ride (55).png___fuse.png', 'night ride (53).png___fuse.png', 'night ride (56).png___fuse.png', 'night ride (57).png___fuse.png', 'night ride (54).png___fuse.png', 'night ride (61).png___fuse.png', 'night ride (58).png___fuse.png', 'night ride (59).png___fuse.png', 'night ride (60).png___fuse.png', 'night ride (62).png___fuse.png', 'night ride (63).png___fuse.png', 'night ride (66).png___fuse.png', 'night ride (64).png___fuse.png', 'night ride (65).png___fuse.png', 'night ride (68).png___fuse.png', 'night ride (7).png___fuse.png', 'night ride (69).png___fuse.png', 'night ride (67).png___fuse.png', 'night ride (73).png___fuse.png', 'night ride (74).png___fuse.png', 'night ride (71).png___fuse.png', 'night ride (70).png___fuse.png', 'night ride (72).png___fuse.png', 'night ride (78).png___fuse.png', 'night ride (76).png___fuse.png', 'night ride (8).png___fuse.png', 'night ride (77).png___fuse.png', 'night ride (79).png___fuse.png', 'night ride (75).png___fuse.png', 'night ride (85).png___fuse.png', 'night ride (84).png___fuse.png', 'night ride (83).png___fuse.png', 'night ride (81).png___fuse.png', 'night ride (82).png___fuse.png', 'night ride (80).png___fuse.png', 'night ride (90).png___fuse.png', 'night ride (86).png___fuse.png', 'night ride (88).png___fuse.png', 'night ride (89).png___fuse.png', 'night ride (9).png___fuse.png', 'night ride (87).png___fuse.png', 'night ride (96).png___fuse.png', 'night ride (91).png___fuse.png', 'night ride (95).png___fuse.png', 'night ride (92).png___fuse.png', 'night ride (93).png___fuse.png', 'night ride (94).png___fuse.png', 'night ride (99).png___fuse.png', 'night ride (98).png___fuse.png', 'night ride (97).png___fuse.png']\n"
          ]
        }
      ]
    },
    {
      "cell_type": "code",
      "source": [
        "import tensorflow as tf\n",
        "\n",
        "# 데이터 증강\n",
        "def augment1(image,label): # 밝기 조절\n",
        "    delta = tf.random.uniform(shape=[], minval=-max_delta, maxval=max_delta)\n",
        "    # 이미지의 밝기를 조절\n",
        "    image = tf.image.adjust_brightness(image, delta)\n",
        "    return image, label\n",
        "\n",
        "def augment2(image, label):\n",
        "    image = tf.image.random_flip_left_right(image) # 랜덤하게 좌우를 반전합니다.\n",
        "    return image,label\n"
      ],
      "metadata": {
        "id": "qzkYMjS4Xf3Y"
      },
      "execution_count": 105,
      "outputs": []
    },
    {
      "cell_type": "code",
      "source": [
        "os.getcwd()\n"
      ],
      "metadata": {
        "colab": {
          "base_uri": "https://localhost:8080/",
          "height": 35
        },
        "id": "LqfMMHSPY_yy",
        "outputId": "0e3b3f76-ac20-43ec-e570-1f04ab471735"
      },
      "execution_count": 106,
      "outputs": [
        {
          "output_type": "execute_result",
          "data": {
            "text/plain": [
              "'/content'"
            ],
            "application/vnd.google.colaboratory.intrinsic+json": {
              "type": "string"
            }
          },
          "metadata": {},
          "execution_count": 106
        }
      ]
    },
    {
      "cell_type": "code",
      "source": [
        "import os\n",
        "import numpy as np\n",
        "import cv2\n",
        "import tensorflow as tf\n",
        "from tensorflow.keras.layers import Input, Conv2D, MaxPooling2D, concatenate, UpSampling2D\n",
        "from tensorflow.keras.models import Model\n",
        "\n",
        "# 이미지 및 라벨링 데이터 디렉토리 설정\n",
        "image_dir = \"/content/drive/MyDrive/ColabNotebooks/archive/www.acmeai.tech ODataset 1 - Motorcycle Night Ride Dataset/normal\"\n",
        "label_dir = \"/content/drive/MyDrive/ColabNotebooks/archive/www.acmeai.tech ODataset 1 - Motorcycle Night Ride Dataset/val2\"\n",
        "\n",
        "# 이미지 크기 설정\n",
        "input_shape = (256, 256, 3)\n",
        "\n",
        "# U-Net 모델 정의\n",
        "def unet_model(input_shape):\n",
        "    inputs = Input(input_shape)\n",
        "\n",
        "    # Encoding\n",
        "    conv1 = Conv2D(64, 3, activation='relu', padding='same')(inputs)\n",
        "    conv1 = Conv2D(64, 3, activation='relu', padding='same')(conv1)\n",
        "    pool1 = MaxPooling2D(pool_size=(2, 2))(conv1)\n",
        "\n",
        "    conv2 = Conv2D(128, 3, activation='relu', padding='same')(pool1)\n",
        "    conv2 = Conv2D(128, 3, activation='relu', padding='same')(conv2)\n",
        "    pool2 = MaxPooling2D(pool_size=(2, 2))(conv2)\n",
        "\n",
        "    conv3 = Conv2D(256, 3, activation='relu', padding='same')(pool2)\n",
        "    conv3 = Conv2D(256, 3, activation='relu', padding='same')(conv3)\n",
        "    pool3 = MaxPooling2D(pool_size=(2, 2))(conv3)\n",
        "\n",
        "    # Bottleneck\n",
        "    conv4 = Conv2D(512, 3, activation='relu', padding='same')(pool3)\n",
        "    conv4 = Conv2D(512, 3, activation='relu', padding='same')(conv4)\n",
        "\n",
        "    # Decoding\n",
        "    up5 = concatenate([UpSampling2D(size=(2, 2))(conv4), conv3], axis=-1)\n",
        "    conv5 = Conv2D(256, 3, activation='relu', padding='same')(up5)\n",
        "    conv5 = Conv2D(256, 3, activation='relu', padding='same')(conv5)\n",
        "\n",
        "    up6 = concatenate([UpSampling2D(size=(2, 2))(conv5), conv2], axis=-1)\n",
        "    conv6 = Conv2D(128, 3, activation='relu', padding='same')(up6)\n",
        "    conv6 = Conv2D(128, 3, activation='relu', padding='same')(conv6)\n",
        "\n",
        "    up7 = concatenate([UpSampling2D(size=(2, 2))(conv6), conv1], axis=-1)\n",
        "    conv7 = Conv2D(64, 3, activation='relu', padding='same')(up7)\n",
        "    conv7 = Conv2D(64, 3, activation='relu', padding='same')(conv7)\n",
        "\n",
        "    outputs = Conv2D(1, 1, activation='sigmoid')(conv7)\n",
        "\n",
        "    model = Model(inputs, outputs)\n",
        "    return model\n",
        "\n",
        "# U-Net 모델 생성\n",
        "model = unet_model(input_shape)\n",
        "\n",
        "# 모델 컴파일\n",
        "model.compile(optimizer='adam', loss='binary_crossentropy', metrics=['accuracy'])\n",
        "\n",
        "# 이미지 및 라벨 데이터 로드 및 전처리 함수\n",
        "def load_and_preprocess_data(image_path, label_path):\n",
        "    image = cv2.imread(image_path)\n",
        "    image = cv2.resize(image, (input_shape[0], input_shape[1]))\n",
        "    image = image / 255.0  # 이미지 정규화 (0~1 범위)\n",
        "\n",
        "    label = cv2.imread(label_path, cv2.IMREAD_GRAYSCALE)\n",
        "    label = cv2.resize(label, (input_shape[0], input_shape[1]))\n",
        "    label = label / 255.0  # 라벨링 데이터 정규화 (0~1 범위)\n",
        "    label = np.expand_dims(label, axis=-1)\n",
        "\n",
        "    return image, label\n",
        "\n",
        "# 데이터셋 준비\n",
        "image_files = os.listdir(image_dir)\n",
        "label_files = os.listdir(label_dir)\n",
        "\n",
        "X_train = []\n",
        "y_train = []\n",
        "\n",
        "for image_file in image_files:\n",
        "    if image_file in label_files:\n",
        "        image_path = os.path.join(image_dir, image_file)\n",
        "        label_path = os.path.join(label_dir, image_file)\n",
        "        image, label = load_and_preprocess_data(image_path, label_path)\n",
        "        X_train.append(image)\n",
        "        y_train.append(label)\n",
        "\n",
        "X_train = np.array(X_train)\n",
        "y_train = np.array(y_train)\n",
        "\n",
        "# 모델 훈련\n",
        "model.fit(X_train, y_train, batch_size=32, epochs=10, validation_split=0.2)\n"
      ],
      "metadata": {
        "colab": {
          "base_uri": "https://localhost:8080/",
          "height": 388
        },
        "id": "n5vmJBopUgXR",
        "outputId": "622f116c-329d-4f23-bd91-ff0269f2d011"
      },
      "execution_count": 102,
      "outputs": [
        {
          "output_type": "error",
          "ename": "ValueError",
          "evalue": "ignored",
          "traceback": [
            "\u001b[0;31m---------------------------------------------------------------------------\u001b[0m",
            "\u001b[0;31mValueError\u001b[0m                                Traceback (most recent call last)",
            "\u001b[0;32m<ipython-input-102-827a3b17e1e8>\u001b[0m in \u001b[0;36m<cell line: 92>\u001b[0;34m()\u001b[0m\n\u001b[1;32m     90\u001b[0m \u001b[0;34m\u001b[0m\u001b[0m\n\u001b[1;32m     91\u001b[0m \u001b[0;31m# 모델 훈련\u001b[0m\u001b[0;34m\u001b[0m\u001b[0;34m\u001b[0m\u001b[0m\n\u001b[0;32m---> 92\u001b[0;31m \u001b[0mmodel\u001b[0m\u001b[0;34m.\u001b[0m\u001b[0mfit\u001b[0m\u001b[0;34m(\u001b[0m\u001b[0mX_train\u001b[0m\u001b[0;34m,\u001b[0m \u001b[0my_train\u001b[0m\u001b[0;34m,\u001b[0m \u001b[0mbatch_size\u001b[0m\u001b[0;34m=\u001b[0m\u001b[0;36m32\u001b[0m\u001b[0;34m,\u001b[0m \u001b[0mepochs\u001b[0m\u001b[0;34m=\u001b[0m\u001b[0;36m10\u001b[0m\u001b[0;34m,\u001b[0m \u001b[0mvalidation_split\u001b[0m\u001b[0;34m=\u001b[0m\u001b[0;36m0.2\u001b[0m\u001b[0;34m)\u001b[0m\u001b[0;34m\u001b[0m\u001b[0;34m\u001b[0m\u001b[0m\n\u001b[0m",
            "\u001b[0;32m/usr/local/lib/python3.10/dist-packages/keras/src/utils/traceback_utils.py\u001b[0m in \u001b[0;36merror_handler\u001b[0;34m(*args, **kwargs)\u001b[0m\n\u001b[1;32m     68\u001b[0m             \u001b[0;31m# To get the full stack trace, call:\u001b[0m\u001b[0;34m\u001b[0m\u001b[0;34m\u001b[0m\u001b[0m\n\u001b[1;32m     69\u001b[0m             \u001b[0;31m# `tf.debugging.disable_traceback_filtering()`\u001b[0m\u001b[0;34m\u001b[0m\u001b[0;34m\u001b[0m\u001b[0m\n\u001b[0;32m---> 70\u001b[0;31m             \u001b[0;32mraise\u001b[0m \u001b[0me\u001b[0m\u001b[0;34m.\u001b[0m\u001b[0mwith_traceback\u001b[0m\u001b[0;34m(\u001b[0m\u001b[0mfiltered_tb\u001b[0m\u001b[0;34m)\u001b[0m \u001b[0;32mfrom\u001b[0m \u001b[0;32mNone\u001b[0m\u001b[0;34m\u001b[0m\u001b[0;34m\u001b[0m\u001b[0m\n\u001b[0m\u001b[1;32m     71\u001b[0m         \u001b[0;32mfinally\u001b[0m\u001b[0;34m:\u001b[0m\u001b[0;34m\u001b[0m\u001b[0;34m\u001b[0m\u001b[0m\n\u001b[1;32m     72\u001b[0m             \u001b[0;32mdel\u001b[0m \u001b[0mfiltered_tb\u001b[0m\u001b[0;34m\u001b[0m\u001b[0;34m\u001b[0m\u001b[0m\n",
            "\u001b[0;32m/usr/local/lib/python3.10/dist-packages/keras/src/engine/data_adapter.py\u001b[0m in \u001b[0;36mtrain_validation_split\u001b[0;34m(arrays, validation_split)\u001b[0m\n\u001b[1;32m   1793\u001b[0m \u001b[0;34m\u001b[0m\u001b[0m\n\u001b[1;32m   1794\u001b[0m     \u001b[0;32mif\u001b[0m \u001b[0msplit_at\u001b[0m \u001b[0;34m==\u001b[0m \u001b[0;36m0\u001b[0m \u001b[0;32mor\u001b[0m \u001b[0msplit_at\u001b[0m \u001b[0;34m==\u001b[0m \u001b[0mbatch_dim\u001b[0m\u001b[0;34m:\u001b[0m\u001b[0;34m\u001b[0m\u001b[0;34m\u001b[0m\u001b[0m\n\u001b[0;32m-> 1795\u001b[0;31m         raise ValueError(\n\u001b[0m\u001b[1;32m   1796\u001b[0m             \u001b[0;34m\"Training data contains {batch_dim} samples, which is not \"\u001b[0m\u001b[0;34m\u001b[0m\u001b[0;34m\u001b[0m\u001b[0m\n\u001b[1;32m   1797\u001b[0m             \u001b[0;34m\"sufficient to split it into a validation and training set as \"\u001b[0m\u001b[0;34m\u001b[0m\u001b[0;34m\u001b[0m\u001b[0m\n",
            "\u001b[0;31mValueError\u001b[0m: Training data contains 0 samples, which is not sufficient to split it into a validation and training set as specified by `validation_split=0.2`. Either provide more data, or a different value for the `validation_split` argument."
          ]
        }
      ]
    }
  ]
}