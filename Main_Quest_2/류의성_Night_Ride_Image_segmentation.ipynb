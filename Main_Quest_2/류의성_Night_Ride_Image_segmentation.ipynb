{
  "nbformat": 4,
  "nbformat_minor": 0,
  "metadata": {
    "colab": {
      "provenance": [],
      "gpuType": "T4"
    },
    "kernelspec": {
      "name": "python3",
      "display_name": "Python 3"
    },
    "language_info": {
      "name": "python"
    },
    "accelerator": "GPU"
  },
  "cells": [
    {
      "cell_type": "code",
      "execution_count": 1,
      "metadata": {
        "colab": {
          "base_uri": "https://localhost:8080/"
        },
        "id": "df9AUVal198H",
        "outputId": "2eabb5e4-7587-43d6-bcbd-0742e52e6389"
      },
      "outputs": [
        {
          "output_type": "stream",
          "name": "stdout",
          "text": [
            "Requirement already satisfied: kaggle in /usr/local/lib/python3.10/dist-packages (1.5.16)\n",
            "Requirement already satisfied: six>=1.10 in /usr/local/lib/python3.10/dist-packages (from kaggle) (1.16.0)\n",
            "Requirement already satisfied: certifi in /usr/local/lib/python3.10/dist-packages (from kaggle) (2023.7.22)\n",
            "Requirement already satisfied: python-dateutil in /usr/local/lib/python3.10/dist-packages (from kaggle) (2.8.2)\n",
            "Requirement already satisfied: requests in /usr/local/lib/python3.10/dist-packages (from kaggle) (2.31.0)\n",
            "Requirement already satisfied: tqdm in /usr/local/lib/python3.10/dist-packages (from kaggle) (4.66.1)\n",
            "Requirement already satisfied: python-slugify in /usr/local/lib/python3.10/dist-packages (from kaggle) (8.0.1)\n",
            "Requirement already satisfied: urllib3 in /usr/local/lib/python3.10/dist-packages (from kaggle) (2.0.7)\n",
            "Requirement already satisfied: bleach in /usr/local/lib/python3.10/dist-packages (from kaggle) (6.1.0)\n",
            "Requirement already satisfied: webencodings in /usr/local/lib/python3.10/dist-packages (from bleach->kaggle) (0.5.1)\n",
            "Requirement already satisfied: text-unidecode>=1.3 in /usr/local/lib/python3.10/dist-packages (from python-slugify->kaggle) (1.3)\n",
            "Requirement already satisfied: charset-normalizer<4,>=2 in /usr/local/lib/python3.10/dist-packages (from requests->kaggle) (3.3.1)\n",
            "Requirement already satisfied: idna<4,>=2.5 in /usr/local/lib/python3.10/dist-packages (from requests->kaggle) (3.4)\n"
          ]
        }
      ],
      "source": [
        "# 캐글 설치\n",
        "!pip install kaggle"
      ]
    },
    {
      "cell_type": "code",
      "source": [
        "#캐글 json 파일 불러오기\n",
        "from google.colab import files\n",
        "uploaded = files.upload()\n",
        "\n",
        "for fn in uploaded.keys():\n",
        "  print('user uploaded file\"{name}\"with length {length} bytes'.format(name=fn, length=len(uploaded[fn])))"
      ],
      "metadata": {
        "colab": {
          "base_uri": "https://localhost:8080/",
          "height": 94
        },
        "id": "NRRrvUPl6KnQ",
        "outputId": "fe21901d-8b88-4a26-be27-67a2e677cbdf"
      },
      "execution_count": 4,
      "outputs": [
        {
          "output_type": "display_data",
          "data": {
            "text/plain": [
              "<IPython.core.display.HTML object>"
            ],
            "text/html": [
              "\n",
              "     <input type=\"file\" id=\"files-e258d54b-34a6-483d-a559-8ab85c08ef51\" name=\"files[]\" multiple disabled\n",
              "        style=\"border:none\" />\n",
              "     <output id=\"result-e258d54b-34a6-483d-a559-8ab85c08ef51\">\n",
              "      Upload widget is only available when the cell has been executed in the\n",
              "      current browser session. Please rerun this cell to enable.\n",
              "      </output>\n",
              "      <script>// Copyright 2017 Google LLC\n",
              "//\n",
              "// Licensed under the Apache License, Version 2.0 (the \"License\");\n",
              "// you may not use this file except in compliance with the License.\n",
              "// You may obtain a copy of the License at\n",
              "//\n",
              "//      http://www.apache.org/licenses/LICENSE-2.0\n",
              "//\n",
              "// Unless required by applicable law or agreed to in writing, software\n",
              "// distributed under the License is distributed on an \"AS IS\" BASIS,\n",
              "// WITHOUT WARRANTIES OR CONDITIONS OF ANY KIND, either express or implied.\n",
              "// See the License for the specific language governing permissions and\n",
              "// limitations under the License.\n",
              "\n",
              "/**\n",
              " * @fileoverview Helpers for google.colab Python module.\n",
              " */\n",
              "(function(scope) {\n",
              "function span(text, styleAttributes = {}) {\n",
              "  const element = document.createElement('span');\n",
              "  element.textContent = text;\n",
              "  for (const key of Object.keys(styleAttributes)) {\n",
              "    element.style[key] = styleAttributes[key];\n",
              "  }\n",
              "  return element;\n",
              "}\n",
              "\n",
              "// Max number of bytes which will be uploaded at a time.\n",
              "const MAX_PAYLOAD_SIZE = 100 * 1024;\n",
              "\n",
              "function _uploadFiles(inputId, outputId) {\n",
              "  const steps = uploadFilesStep(inputId, outputId);\n",
              "  const outputElement = document.getElementById(outputId);\n",
              "  // Cache steps on the outputElement to make it available for the next call\n",
              "  // to uploadFilesContinue from Python.\n",
              "  outputElement.steps = steps;\n",
              "\n",
              "  return _uploadFilesContinue(outputId);\n",
              "}\n",
              "\n",
              "// This is roughly an async generator (not supported in the browser yet),\n",
              "// where there are multiple asynchronous steps and the Python side is going\n",
              "// to poll for completion of each step.\n",
              "// This uses a Promise to block the python side on completion of each step,\n",
              "// then passes the result of the previous step as the input to the next step.\n",
              "function _uploadFilesContinue(outputId) {\n",
              "  const outputElement = document.getElementById(outputId);\n",
              "  const steps = outputElement.steps;\n",
              "\n",
              "  const next = steps.next(outputElement.lastPromiseValue);\n",
              "  return Promise.resolve(next.value.promise).then((value) => {\n",
              "    // Cache the last promise value to make it available to the next\n",
              "    // step of the generator.\n",
              "    outputElement.lastPromiseValue = value;\n",
              "    return next.value.response;\n",
              "  });\n",
              "}\n",
              "\n",
              "/**\n",
              " * Generator function which is called between each async step of the upload\n",
              " * process.\n",
              " * @param {string} inputId Element ID of the input file picker element.\n",
              " * @param {string} outputId Element ID of the output display.\n",
              " * @return {!Iterable<!Object>} Iterable of next steps.\n",
              " */\n",
              "function* uploadFilesStep(inputId, outputId) {\n",
              "  const inputElement = document.getElementById(inputId);\n",
              "  inputElement.disabled = false;\n",
              "\n",
              "  const outputElement = document.getElementById(outputId);\n",
              "  outputElement.innerHTML = '';\n",
              "\n",
              "  const pickedPromise = new Promise((resolve) => {\n",
              "    inputElement.addEventListener('change', (e) => {\n",
              "      resolve(e.target.files);\n",
              "    });\n",
              "  });\n",
              "\n",
              "  const cancel = document.createElement('button');\n",
              "  inputElement.parentElement.appendChild(cancel);\n",
              "  cancel.textContent = 'Cancel upload';\n",
              "  const cancelPromise = new Promise((resolve) => {\n",
              "    cancel.onclick = () => {\n",
              "      resolve(null);\n",
              "    };\n",
              "  });\n",
              "\n",
              "  // Wait for the user to pick the files.\n",
              "  const files = yield {\n",
              "    promise: Promise.race([pickedPromise, cancelPromise]),\n",
              "    response: {\n",
              "      action: 'starting',\n",
              "    }\n",
              "  };\n",
              "\n",
              "  cancel.remove();\n",
              "\n",
              "  // Disable the input element since further picks are not allowed.\n",
              "  inputElement.disabled = true;\n",
              "\n",
              "  if (!files) {\n",
              "    return {\n",
              "      response: {\n",
              "        action: 'complete',\n",
              "      }\n",
              "    };\n",
              "  }\n",
              "\n",
              "  for (const file of files) {\n",
              "    const li = document.createElement('li');\n",
              "    li.append(span(file.name, {fontWeight: 'bold'}));\n",
              "    li.append(span(\n",
              "        `(${file.type || 'n/a'}) - ${file.size} bytes, ` +\n",
              "        `last modified: ${\n",
              "            file.lastModifiedDate ? file.lastModifiedDate.toLocaleDateString() :\n",
              "                                    'n/a'} - `));\n",
              "    const percent = span('0% done');\n",
              "    li.appendChild(percent);\n",
              "\n",
              "    outputElement.appendChild(li);\n",
              "\n",
              "    const fileDataPromise = new Promise((resolve) => {\n",
              "      const reader = new FileReader();\n",
              "      reader.onload = (e) => {\n",
              "        resolve(e.target.result);\n",
              "      };\n",
              "      reader.readAsArrayBuffer(file);\n",
              "    });\n",
              "    // Wait for the data to be ready.\n",
              "    let fileData = yield {\n",
              "      promise: fileDataPromise,\n",
              "      response: {\n",
              "        action: 'continue',\n",
              "      }\n",
              "    };\n",
              "\n",
              "    // Use a chunked sending to avoid message size limits. See b/62115660.\n",
              "    let position = 0;\n",
              "    do {\n",
              "      const length = Math.min(fileData.byteLength - position, MAX_PAYLOAD_SIZE);\n",
              "      const chunk = new Uint8Array(fileData, position, length);\n",
              "      position += length;\n",
              "\n",
              "      const base64 = btoa(String.fromCharCode.apply(null, chunk));\n",
              "      yield {\n",
              "        response: {\n",
              "          action: 'append',\n",
              "          file: file.name,\n",
              "          data: base64,\n",
              "        },\n",
              "      };\n",
              "\n",
              "      let percentDone = fileData.byteLength === 0 ?\n",
              "          100 :\n",
              "          Math.round((position / fileData.byteLength) * 100);\n",
              "      percent.textContent = `${percentDone}% done`;\n",
              "\n",
              "    } while (position < fileData.byteLength);\n",
              "  }\n",
              "\n",
              "  // All done.\n",
              "  yield {\n",
              "    response: {\n",
              "      action: 'complete',\n",
              "    }\n",
              "  };\n",
              "}\n",
              "\n",
              "scope.google = scope.google || {};\n",
              "scope.google.colab = scope.google.colab || {};\n",
              "scope.google.colab._files = {\n",
              "  _uploadFiles,\n",
              "  _uploadFilesContinue,\n",
              "};\n",
              "})(self);\n",
              "</script> "
            ]
          },
          "metadata": {}
        },
        {
          "output_type": "stream",
          "name": "stdout",
          "text": [
            "Saving kaggle.json to kaggle (1).json\n",
            "user uploaded file\"kaggle (1).json\"with length 64 bytes\n"
          ]
        }
      ]
    },
    {
      "cell_type": "code",
      "source": [
        "# 캐글 폴더 생성\n",
        "!mkdir -p ~/.kaggle\n",
        "!cp kaggle.json ~/.kaggle/\n",
        "!chmod 600 ~/.kaggle/kaggle.json\n",
        "\n",
        "!ls -1ha kaggle.json\n",
        "\n",
        "! kaggle datasets download -d sadhliroomyprime/motorcycle-night-ride-semantic-segmentation"
      ],
      "metadata": {
        "colab": {
          "base_uri": "https://localhost:8080/"
        },
        "id": "KgzHVKBvsE-4",
        "outputId": "fb0c3dfb-66e4-4ddf-b77b-c1c8b875d8e3"
      },
      "execution_count": 5,
      "outputs": [
        {
          "output_type": "stream",
          "name": "stdout",
          "text": [
            "kaggle.json\n",
            "motorcycle-night-ride-semantic-segmentation.zip: Skipping, found more recently modified local copy (use --force to force download)\n"
          ]
        }
      ]
    },
    {
      "cell_type": "code",
      "source": [
        "!unzip -q motorcycle-night-ride-semantic-segmentation.zip -d dataset_folder\n"
      ],
      "metadata": {
        "colab": {
          "base_uri": "https://localhost:8080/"
        },
        "id": "TI32JLdisZyB",
        "outputId": "0c842c71-18f4-4c40-e632-354e53c9cfad"
      },
      "execution_count": 6,
      "outputs": [
        {
          "output_type": "stream",
          "name": "stdout",
          "text": [
            "replace dataset_folder/www.acmeai.tech ODataset 1 - Motorcycle Night Ride Dataset.pdf? [y]es, [n]o, [A]ll, [N]one, [r]ename: n\n",
            "replace dataset_folder/www.acmeai.tech ODataset 1 - Motorcycle Night Ride Dataset/COCO_motorcycle (pixel).json? [y]es, [n]o, [A]ll, [N]one, [r]ename: none\n",
            "replace dataset_folder/www.acmeai.tech ODataset 1 - Motorcycle Night Ride Dataset/images/Screenshot (309).png? [y]es, [n]o, [A]ll, [N]one, [r]ename: n\n",
            "replace dataset_folder/www.acmeai.tech ODataset 1 - Motorcycle Night Ride Dataset/images/Screenshot (309).png___fuse.png? [y]es, [n]o, [A]ll, [N]one, [r]ename: n\n",
            "replace dataset_folder/www.acmeai.tech ODataset 1 - Motorcycle Night Ride Dataset/images/Screenshot (309).png___save.png? [y]es, [n]o, [A]ll, [N]one, [r]ename: n\n",
            "replace dataset_folder/www.acmeai.tech ODataset 1 - Motorcycle Night Ride Dataset/images/Screenshot (310).png? [y]es, [n]o, [A]ll, [N]one, [r]ename: n\n",
            "replace dataset_folder/www.acmeai.tech ODataset 1 - Motorcycle Night Ride Dataset/images/Screenshot (310).png___fuse.png? [y]es, [n]o, [A]ll, [N]one, [r]ename: n\n",
            "replace dataset_folder/www.acmeai.tech ODataset 1 - Motorcycle Night Ride Dataset/images/Screenshot (310).png___save.png? [y]es, [n]o, [A]ll, [N]one, [r]ename: A\n"
          ]
        }
      ]
    },
    {
      "cell_type": "code",
      "source": [
        "import os\n",
        "import cv2\n",
        "import tensorflow as tf\n",
        "from PIL import Image\n",
        "import numpy as np\n",
        "\n",
        "DATA_PATH = '/content/dataset_folder/www.acmeai.tech ODataset 1 - Motorcycle Night Ride Dataset/'  # 다운로드한 데이터셋의 경로를 입력하세요.\n",
        "DATA_FOLDER = os.path.join(DATA_PATH, 'images/')\n",
        "\n",
        "image_files = [f for f in os.listdir(DATA_FOLDER) if f.endswith(').png')]\n",
        "mask_files = [f for f in os.listdir(DATA_FOLDER) if f.endswith('ve.png')]\n",
        "\n",
        "X_train = []\n",
        "y_train = []\n",
        "\n",
        "for image_file in image_files:\n",
        "    # 이미지 파일 로드\n",
        "    image_path = os.path.join(DATA_FOLDER, image_file)\n",
        "    image = cv2.imread(image_path)\n",
        "    X_train.append(image)\n",
        "\n",
        "    # 해당 이미지에 대한 마스크 파일 찾기\n",
        "    base_name = os.path.splitext(image_file)[0]  # 파일 이름에서 확장자 제거\n",
        "    matching_mask_files = [mask_file for mask_file in mask_files if base_name in mask_file]\n",
        "    if matching_mask_files:\n",
        "        mask_file = matching_mask_files[0]  # 첫 번째 일치하는 마스크 파일 사용\n",
        "        mask_path = os.path.join(DATA_FOLDER, mask_file)\n",
        "        mask = cv2.imread(mask_path)\n",
        "        y_train.append(mask)\n",
        "\n",
        "X_train = np.array(X_train)\n",
        "y_train = np.array(y_train)"
      ],
      "metadata": {
        "id": "XFnhrrAVs7yj"
      },
      "execution_count": 7,
      "outputs": []
    },
    {
      "cell_type": "code",
      "source": [
        "# 이미지 표시, 마스크 로딩 된건지 확인\n",
        "import matplotlib.pyplot as plt\n",
        "\n",
        "fig, axs = plt.subplots(2, 2, figsize=(5, 5))\n",
        "\n",
        "axs[0, 0].imshow(X_train[0])\n",
        "axs[0, 0].set_title(\"Image 1\")\n",
        "axs[0, 1].imshow(y_train[0])\n",
        "axs[0, 1].set_title(\"Mask 1\")\n",
        "axs[1, 0].imshow(X_train[1])\n",
        "axs[1, 0].set_title(\"Image 2\")\n",
        "axs[1, 1].imshow(y_train[1])\n",
        "axs[1, 1].set_title(\"Mask 2\")\n",
        "\n",
        "plt.show()\n",
        "\n",
        "plt.tight_layout() # 간격 넓어서 추가.\n"
      ],
      "metadata": {
        "colab": {
          "base_uri": "https://localhost:8080/",
          "height": 410
        },
        "id": "0bHeiWyR0zep",
        "outputId": "70bd8296-9a16-4b9a-ebd4-7134545292e9"
      },
      "execution_count": 8,
      "outputs": [
        {
          "output_type": "display_data",
          "data": {
            "text/plain": [
              "<Figure size 500x500 with 4 Axes>"
            ],
            "image/png": "[encoded data removed]"
          },
          "metadata": {}
        },
        {
          "output_type": "display_data",
          "data": {
            "text/plain": [
              "<Figure size 640x480 with 0 Axes>"
            ]
          },
          "metadata": {}
        }
      ]
    },
    {
      "cell_type": "code",
      "source": [
        "# 데이터 전처리\n",
        "''' 원래 하려고 했던 방식\n",
        "def augment1(image,label): # 밝기 조절\n",
        "    delta = tf.random.uniform(shape=[], minval=-max_delta, maxval=max_delta)\n",
        "    # 이미지의 밝기를 조절\n",
        "    image = tf.image.adjust_brightness(image, delta)\n",
        "    return image, label\n",
        "\n",
        "def augment2(image, label):\n",
        "    image = tf.image.random_flip_left_right(image) # 랜덤하게 좌우를 반전\n",
        "    return image,label\n",
        "'''\n",
        "\n",
        "'''\n",
        "# 과제하면서 찾은 방법\n",
        "import numpy as np\n",
        "from tensorflow.keras.preprocessing.image import ImageDataGenerator\n",
        "\n",
        "datagen = ImageDataGenerator(horizontal_flip=True,brightness_range=[0.5, 1.5])\n",
        "\n",
        "# X_train 이미지를 로드하고 증강\n",
        "num_augmented_images_per_original = 3\n",
        "for image in X_train:\n",
        "    image = np.expand_dims(image, axis=0)  # 4차원 배열로 확장 (처음에 오류 → ChatGPT 물어봄)\n",
        "    augmented_images = datagen.flow(image)\n",
        "    for i in range(num_augmented_images_per_original):\n",
        "        augmented_image = augmented_images.next()\n",
        "        augmented_image = augmented_image[0]\n",
        "'''"
      ],
      "metadata": {
        "colab": {
          "base_uri": "https://localhost:8080/",
          "height": 126
        },
        "id": "la-7QvHH10VS",
        "outputId": "81aefc52-670e-431d-e594-0286509ec41a"
      },
      "execution_count": 9,
      "outputs": [
        {
          "output_type": "execute_result",
          "data": {
            "text/plain": [
              "'\\n# 과제하면서 찾은 방법 \\nimport numpy as np\\nfrom tensorflow.keras.preprocessing.image import ImageDataGenerator\\n\\ndatagen = ImageDataGenerator(horizontal_flip=True,brightness_range=[0.5, 1.5])\\n\\n# X_train 이미지를 로드하고 증강\\nnum_augmented_images_per_original = 3\\nfor image in X_train:\\n    image = np.expand_dims(image, axis=0)  # 4차원 배열로 확장 (처음에 오류 → ChatGPT 물어봄)\\n    augmented_images = datagen.flow(image)\\n    for i in range(num_augmented_images_per_original):\\n        augmented_image = augmented_images.next()\\n        augmented_image = augmented_image[0] \\n'"
            ],
            "application/vnd.google.colaboratory.intrinsic+json": {
              "type": "string"
            }
          },
          "metadata": {},
          "execution_count": 9
        }
      ]
    },
    {
      "cell_type": "code",
      "source": [
        "print(X_train.shape)\n",
        "print(y_train.shape)\n",
        "# 200장 이었던거 같은데 2장 어디간거지?"
      ],
      "metadata": {
        "colab": {
          "base_uri": "https://localhost:8080/"
        },
        "id": "1DHnJxo78fBi",
        "outputId": "e6e5ec92-5cf2-434d-f86c-94f59289e707"
      },
      "execution_count": 10,
      "outputs": [
        {
          "output_type": "stream",
          "name": "stdout",
          "text": [
            "(198, 1080, 1920, 3)\n",
            "(198, 1080, 1920, 3)\n"
          ]
        }
      ]
    },
    {
      "cell_type": "code",
      "source": [
        "# Q. 사이즈 조절 vs 그대로 넣기\n",
        "# A. 1920*1080 사이즈 그대로 넣고 돌려봤는데, 바로 멈춤 → 사이즈 조절\n",
        "\n"
      ],
      "metadata": {
        "id": "cm74glbX8rGg"
      },
      "execution_count": 11,
      "outputs": []
    },
    {
      "cell_type": "code",
      "source": [
        "import tensorflow as tf\n",
        "from tensorflow.keras.layers import Input, Conv2D, MaxPooling2D, concatenate, UpSampling2D\n",
        "from tensorflow.keras.models import Model\n",
        "\n",
        "\n",
        "# 참고했던 유튜브: https://www.youtube.com/watch?v=nCL7Y58jzH8&t=738s (파이토)\n",
        "def unet(input_size=(256, 256, 3)):\n",
        "    inputs = Input(input_size)\n",
        "\n",
        "    # Encoder 부분\n",
        "    conv1 = Conv2D(64, 3, activation='relu', padding='same', kernel_initializer='he_normal')(inputs)\n",
        "    pool1 = MaxPooling2D(pool_size=(2, 2))(conv1)\n",
        "\n",
        "    conv2 = Conv2D(128, 3, activation='relu', padding='same', kernel_initializer='he_normal')(pool1)\n",
        "    pool2 = MaxPooling2D(pool_size=(2, 2))(conv2)\n",
        "\n",
        "    # 중간층\n",
        "    conv3 = Conv2D(256, 3, activation='relu', padding='same', kernel_initializer='he_normal')(pool2)\n",
        "\n",
        "    # Decoder 부분\n",
        "    up4 = UpSampling2D(size=(2, 2))(conv3)\n",
        "    up4 = concatenate([up4, conv2], axis=3)\n",
        "    conv4 = Conv2D(128, 3, activation='relu', padding='same', kernel_initializer='he_normal')(up4)\n",
        "\n",
        "    up5 = UpSampling2D(size=(2, 2))(conv4)\n",
        "    up5 = concatenate([up5, conv1], axis=3)\n",
        "    conv5 = Conv2D(64, 3, activation='relu', padding='same', kernel_initializer='he_normal')(up5)\n",
        "\n",
        "    # 출력층\n",
        "    outputs = Conv2D(1, 1, activation='sigmoid')(conv5)\n",
        "\n",
        "    model = Model(inputs=inputs, outputs=outputs)\n",
        "\n",
        "    return model\n",
        "\n",
        "# U-Net 모델 생성\n",
        "model = unet(input_size=(256, 256, 3))\n"
      ],
      "metadata": {
        "id": "c50qrchm4sAh"
      },
      "execution_count": 12,
      "outputs": []
    },
    {
      "cell_type": "code",
      "source": [
        "# 사이즈 조절 - 리사이징 방법 (나중에 공부해볼 주제)\n",
        "'''\n",
        "이미지 크기를 리사이징할 때 원본 이미지와 목표 크기의 가로와 세로 비율이 다른 경우,\n",
        "이미지를 리사이징하는 과정에서 비율을 유지하기 위해 몇 가지 방법을 사용할 수 있습니다.\n",
        "일반적으로 다음 두 가지 방법을 사용합니다:\n",
        "\n",
        "원본 비율을 유지한 채 리사이징\n",
        ": 원본 이미지의 가로와 세로 비율을 계산하고, 이 비율을 유지한 채로 목표 크기에 맞게 이미지를 리사이징합니다.\n",
        "이를 통해 원본 이미지의 종횡비가 유지됩니다. 일반적으로 빈 공간이 생길 수 있습니다.\n",
        "\n",
        "가로 또는 세로 중 하나의 크기를 맞추고 다른 크기를 조정\n",
        ": 가로와 세로 중 하나의 크기를 목표 크기에 맞추고, 다른 크기는 비율을 유지하면서 조정합니다.\n",
        "이 방법은 원본 이미지의 한 쪽 크기를 맞추고 나머지 쪽을 잘라내는 경우입니다. 이렇게 하면 이미지가 잘릴 수 있습니다.\n",
        "'''\n",
        "\n",
        "target_size = (256, 256)\n",
        "X_train_resized = []\n",
        "\n",
        "\n",
        "def resize_image(image):\n",
        "    resized_image = cv2.resize(image, target_size)\n",
        "    return resized_image\n",
        "\n",
        "# X_train 이미지를 리사이징하고 리스트에 저장\n",
        "for image in X_train:\n",
        "    resized_image = resize_image(image)\n",
        "    X_train_resized.append(resized_image)\n",
        "\n",
        "# NumPy 배열로 변환\n",
        "X_train_resized = np.array(X_train_resized)\n",
        "\n",
        "# 결과 확인\n",
        "print(X_train_resized.shape)\n",
        "\n",
        "X_train = X_train_resized\n",
        "#이렇게 그대로 바꿔주는게 하기에는 편한데, 보통 X_train_resized = [] 식으로 선언하고 그걸 넣어주는 이유는 데이터 저장과 관련있는건가?\n"
      ],
      "metadata": {
        "colab": {
          "base_uri": "https://localhost:8080/"
        },
        "id": "QLx8Irs990Hk",
        "outputId": "5155a80c-3974-4a1d-f941-cb108272bd2a"
      },
      "execution_count": 13,
      "outputs": [
        {
          "output_type": "stream",
          "name": "stdout",
          "text": [
            "(198, 256, 256, 3)\n"
          ]
        }
      ]
    },
    {
      "cell_type": "code",
      "source": [
        "# 모델 확인\n",
        "model.summary()"
      ],
      "metadata": {
        "colab": {
          "base_uri": "https://localhost:8080/"
        },
        "id": "rmBMqwfh5vb_",
        "outputId": "37f59331-fcdd-4b22-85f2-3069bee0fe2d"
      },
      "execution_count": 14,
      "outputs": [
        {
          "output_type": "stream",
          "name": "stdout",
          "text": [
            "Model: \"model\"\n",
            "__________________________________________________________________________________________________\n",
            " Layer (type)                Output Shape                 Param #   Connected to                  \n",
            "==================================================================================================\n",
            " input_1 (InputLayer)        [(None, 256, 256, 3)]        0         []                            \n",
            "                                                                                                  \n",
            " conv2d (Conv2D)             (None, 256, 256, 64)         1792      ['input_1[0][0]']             \n",
            "                                                                                                  \n",
            " max_pooling2d (MaxPooling2  (None, 128, 128, 64)         0         ['conv2d[0][0]']              \n",
            " D)                                                                                               \n",
            "                                                                                                  \n",
            " conv2d_1 (Conv2D)           (None, 128, 128, 128)        73856     ['max_pooling2d[0][0]']       \n",
            "                                                                                                  \n",
            " max_pooling2d_1 (MaxPoolin  (None, 64, 64, 128)          0         ['conv2d_1[0][0]']            \n",
            " g2D)                                                                                             \n",
            "                                                                                                  \n",
            " conv2d_2 (Conv2D)           (None, 64, 64, 256)          295168    ['max_pooling2d_1[0][0]']     \n",
            "                                                                                                  \n",
            " up_sampling2d (UpSampling2  (None, 128, 128, 256)        0         ['conv2d_2[0][0]']            \n",
            " D)                                                                                               \n",
            "                                                                                                  \n",
            " concatenate (Concatenate)   (None, 128, 128, 384)        0         ['up_sampling2d[0][0]',       \n",
            "                                                                     'conv2d_1[0][0]']            \n",
            "                                                                                                  \n",
            " conv2d_3 (Conv2D)           (None, 128, 128, 128)        442496    ['concatenate[0][0]']         \n",
            "                                                                                                  \n",
            " up_sampling2d_1 (UpSamplin  (None, 256, 256, 128)        0         ['conv2d_3[0][0]']            \n",
            " g2D)                                                                                             \n",
            "                                                                                                  \n",
            " concatenate_1 (Concatenate  (None, 256, 256, 192)        0         ['up_sampling2d_1[0][0]',     \n",
            " )                                                                   'conv2d[0][0]']              \n",
            "                                                                                                  \n",
            " conv2d_4 (Conv2D)           (None, 256, 256, 64)         110656    ['concatenate_1[0][0]']       \n",
            "                                                                                                  \n",
            " conv2d_5 (Conv2D)           (None, 256, 256, 1)          65        ['conv2d_4[0][0]']            \n",
            "                                                                                                  \n",
            "==================================================================================================\n",
            "Total params: 924033 (3.52 MB)\n",
            "Trainable params: 924033 (3.52 MB)\n",
            "Non-trainable params: 0 (0.00 Byte)\n",
            "__________________________________________________________________________________________________\n"
          ]
        }
      ]
    },
    {
      "cell_type": "code",
      "source": [
        "from tensorflow.keras.callbacks import ModelCheckpoint\n",
        "\n",
        "model.compile(optimizer=\"rmsprop\", loss=\"sparse_categorical_crossentropy\")\n",
        "\n",
        "num_classes = 6\n",
        "\n",
        "from tensorflow.keras.utils import to_categorical\n",
        "y_train_encoded = to_categorical(y_train, num_classes=num_classes)\n",
        "\n",
        "callbacks = [\n",
        "    tf.keras.callbacks.ModelCheckpoint(filepath='try1', save_best_only=True)\n",
        "    ]\n",
        "\n",
        "epochs = 2\n",
        "batch_size = 8\n",
        "\n",
        "history = model.fit(X_train, y_train_encoded, epochs=epochs, batch_size=batch_size)\n",
        "\n",
        "model.fit(X_train, y_train, epochs=epochs, batch_size=batch_size)\n"
      ],
      "metadata": {
        "id": "APQPNDYB6HcR"
      },
      "execution_count": null,
      "outputs": []
    },
    {
      "cell_type": "code",
      "source": [],
      "metadata": {
        "id": "3llKh_IH7iXu"
      },
      "execution_count": null,
      "outputs": []
    },
    {
      "cell_type": "code",
      "source": [
        "import tensorflow as tf\n",
        "from tensorflow.keras.optimizers import Adam\n",
        "from tensorflow.keras.losses import binary_crossentropy\n",
        "from tensorflow.keras.metrics import MeanIoU\n",
        "\n",
        "# 데이터셋 로드 (X_train: 입력 이미지, y_train: 정답 레이블)\n",
        "X_train, y_train = load_dataset()  # 실제 데이터 로드 함수를 사용해야 함\n",
        "\n",
        "# U-Net 모델 생성\n",
        "model = unet(input_size=(256, 256, 3))\n",
        "\n",
        "# 모델 컴파일\n",
        "model.compile(optimizer=Adam(learning_rate=1e-4),\n",
        "              loss=binary_crossentropy,\n",
        "              metrics=[MeanIoU(num_classes=2)])\n",
        "\n",
        "# 모델 학습\n",
        "epochs = 5  # 학습 에포크 수를 조정하세요\n",
        "batch_size = 8  # 배치 크기를 조정하세요\n",
        "\n",
        "model.fit(X_train, y_train, epochs=epochs, batch_size=batch_size)\n"
      ],
      "metadata": {
        "id": "ERXOwiFc5HOc"
      },
      "execution_count": null,
      "outputs": []
    }
  ]
}